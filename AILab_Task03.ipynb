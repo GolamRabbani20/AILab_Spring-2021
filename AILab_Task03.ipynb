{
  "nbformat": 4,
  "nbformat_minor": 0,
  "metadata": {
    "colab": {
      "name": "AILab-Task03.ipynb",
      "provenance": [],
      "authorship_tag": "ABX9TyO9yDq0W23VBwx3yhH/bdoa",
      "include_colab_link": true
    },
    "kernelspec": {
      "name": "python3",
      "display_name": "Python 3"
    }
  },
  "cells": [
    {
      "cell_type": "markdown",
      "metadata": {
        "id": "view-in-github",
        "colab_type": "text"
      },
      "source": [
        "<a href=\"https://colab.research.google.com/github/GolamRabbani20/AILab_Spring-2021/blob/main/AILab_Task03.ipynb\" target=\"_parent\"><img src=\"https://colab.research.google.com/assets/colab-badge.svg\" alt=\"Open In Colab\"/></a>"
      ]
    },
    {
      "cell_type": "markdown",
      "metadata": {
        "id": "2n6EngtxIlm4"
      },
      "source": [
        "## **<font color='yellow'>The work that have been shown in class**"
      ]
    },
    {
      "cell_type": "code",
      "metadata": {
        "colab": {
          "base_uri": "https://localhost:8080/"
        },
        "id": "gZWyMYgtIGkx",
        "outputId": "b0262f30-7153-4f2b-ad94-e9c2c239c928"
      },
      "source": [
        "print(\"Hello Bangladesh\")"
      ],
      "execution_count": 2,
      "outputs": [
        {
          "output_type": "stream",
          "text": [
            "Hello Bangladesh\n"
          ],
          "name": "stdout"
        }
      ]
    },
    {
      "cell_type": "code",
      "metadata": {
        "colab": {
          "base_uri": "https://localhost:8080/"
        },
        "id": "1Vlti1-yHrNF",
        "outputId": "0abd5ecd-271a-43a5-9252-980b65fd5fa9"
      },
      "source": [
        "for i in range(20):\r\n",
        "  print(i, end=\" \")"
      ],
      "execution_count": 3,
      "outputs": [
        {
          "output_type": "stream",
          "text": [
            "0 1 2 3 4 5 6 7 8 9 10 11 12 13 14 15 16 17 18 19 "
          ],
          "name": "stdout"
        }
      ]
    },
    {
      "cell_type": "code",
      "metadata": {
        "id": "wD2pgwucIaMQ"
      },
      "source": [
        ""
      ],
      "execution_count": null,
      "outputs": []
    }
  ]
}