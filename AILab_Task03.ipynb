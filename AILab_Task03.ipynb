{
  "nbformat": 4,
  "nbformat_minor": 0,
  "metadata": {
    "colab": {
      "name": "AILab-Task03.ipynb",
      "provenance": [],
      "authorship_tag": "ABX9TyP1maREk2SjLJ1SXgYQ5LHQ",
      "include_colab_link": true
    },
    "kernelspec": {
      "name": "python3",
      "display_name": "Python 3"
    }
  },
  "cells": [
    {
      "cell_type": "markdown",
      "metadata": {
        "id": "view-in-github",
        "colab_type": "text"
      },
      "source": [
        "<a href=\"https://colab.research.google.com/github/GolamRabbani20/AILab_Spring-2021/blob/main/AILab_Task03.ipynb\" target=\"_parent\"><img src=\"https://colab.research.google.com/assets/colab-badge.svg\" alt=\"Open In Colab\"/></a>"
      ]
    },
    {
      "cell_type": "markdown",
      "metadata": {
        "id": "U4tabiWLfT2f"
      },
      "source": [
        "#**Home** Work(Lab Task)"
      ]
    },
    {
      "cell_type": "code",
      "metadata": {
        "id": "5QWHU7K0fEjs",
        "colab": {
          "base_uri": "https://localhost:8080/"
        },
        "outputId": "65bf22a8-b8cc-480e-b532-aaf374119718"
      },
      "source": [
        "CoureList = []\r\n",
        "def line():\r\n",
        "  print('.....................................................................')\r\n",
        "\r\n",
        "def show_menu():\r\n",
        "  line()\r\n",
        "  print('MENU BAR')\r\n",
        "  print('1.Add couse\\n2.Show course list\\n3.Remove or Unenroll\\n4.Exit\\n')\r\n",
        "  return int(input(\"Choose your option:\"))\r\n",
        "  \r\n",
        "\r\n",
        "while True:\r\n",
        "  choice = show_menu()\r\n",
        "  line()\r\n",
        "  if choice == 1:\r\n",
        "    while True:\r\n",
        "      ch = input(\"Do you want to add course(Y/N)?:\")\r\n",
        "      if ch.upper() == 'Y':\r\n",
        "        CoureList.append(input('Enter your course name:'))\r\n",
        "        print('Your couse has been added successfully.\\n')\r\n",
        "      elif ch.upper() == 'N':\r\n",
        "        break\r\n",
        "      else:\r\n",
        "        print(\"Invalid! Try again.\")\r\n",
        "  \r\n",
        "  elif choice == 2:\r\n",
        "    if len(CoureList) == 0:\r\n",
        "       print(\"Your Course List is empty. Please add your course\")\r\n",
        "    else:\r\n",
        "      k = 1\r\n",
        "      print(\"Your avilable courses are shown bellow\")\r\n",
        "      for i in CoureList:\r\n",
        "        print(str(k),')',i)\r\n",
        "        k+=1\r\n",
        "    \r\n",
        "  elif choice == 3:\r\n",
        "    if len(CoureList) == 0:\r\n",
        "      print(\"Sorry! Your list is empty.\")\r\n",
        "\r\n",
        "    else:\r\n",
        "        while True:\r\n",
        "          ch = input(\"Do you want to remove course(Y/N)?:\")\r\n",
        "          if ch.upper() == 'Y':\r\n",
        "            cn = input('Please, Enter removal course name:')\r\n",
        "            if CoureList.count(cn):\r\n",
        "                CoureList.remove(cn)\r\n",
        "                print(cn,'has been removed successfully.\\n')\r\n",
        "            else:\r\n",
        "              print(\"Sorry! The course name dose not matched!\")\r\n",
        "\r\n",
        "          elif ch.upper() == 'N':\r\n",
        "            break\r\n",
        "          else:\r\n",
        "            print(\"Invalid! Try again.\")\r\n",
        "\r\n",
        "  elif choice == 4:\r\n",
        "     print('Goodbye!')\r\n",
        "     break\r\n",
        "  else:\r\n",
        "    print('Invalid Choice! Please try again.')\r\n",
        "  "
      ],
      "execution_count": 3,
      "outputs": [
        {
          "output_type": "stream",
          "text": [
            ".....................................................................\n",
            "MENU BAR\n",
            "1.Add couse\n",
            "2.Show course list\n",
            "3.Remove or Unenroll\n",
            "4.Exit\n",
            "\n",
            "Choose your option:2\n",
            ".....................................................................\n",
            "Your Course List is empty. Please add your course\n",
            ".....................................................................\n",
            "MENU BAR\n",
            "1.Add couse\n",
            "2.Show course list\n",
            "3.Remove or Unenroll\n",
            "4.Exit\n",
            "\n",
            "Choose your option:3\n",
            ".....................................................................\n",
            "Sorry! Your list is empty.\n",
            ".....................................................................\n",
            "MENU BAR\n",
            "1.Add couse\n",
            "2.Show course list\n",
            "3.Remove or Unenroll\n",
            "4.Exit\n",
            "\n",
            "Choose your option:1\n",
            ".....................................................................\n",
            "Do you want to add course(Y/N)?:y\n",
            "Enter your course name:AI\n",
            "Your couse has been added successfully.\n",
            "\n",
            "Do you want to add course(Y/N)?:y\n",
            "Enter your course name:DBMS\n",
            "Your couse has been added successfully.\n",
            "\n",
            "Do you want to add course(Y/N)?:y\n",
            "Enter your course name:Web\n",
            "Your couse has been added successfully.\n",
            "\n",
            "Do you want to add course(Y/N)?:y\n",
            "Enter your course name:Simulation\n",
            "Your couse has been added successfully.\n",
            "\n",
            "Do you want to add course(Y/N)?:y\n",
            "Enter your course name:Networking\n",
            "Your couse has been added successfully.\n",
            "\n",
            "Do you want to add course(Y/N)?:y\n",
            "Enter your course name:Math\n",
            "Your couse has been added successfully.\n",
            "\n",
            "Do you want to add course(Y/N)?:y\n",
            "Enter your course name:English\n",
            "Your couse has been added successfully.\n",
            "\n",
            "Do you want to add course(Y/N)?:y\n",
            "Enter your course name:Physics\n",
            "Your couse has been added successfully.\n",
            "\n",
            "Do you want to add course(Y/N)?:y\n",
            "Enter your course name:OOP\n",
            "Your couse has been added successfully.\n",
            "\n",
            "Do you want to add course(Y/N)?:y\n",
            "Enter your course name:Python\n",
            "Your couse has been added successfully.\n",
            "\n",
            "Do you want to add course(Y/N)?:k\n",
            "Invalid! Try again.\n",
            "Do you want to add course(Y/N)?:y\n",
            "Enter your course name:C++\n",
            "Your couse has been added successfully.\n",
            "\n",
            "Do you want to add course(Y/N)?:n\n",
            ".....................................................................\n",
            "MENU BAR\n",
            "1.Add couse\n",
            "2.Show course list\n",
            "3.Remove or Unenroll\n",
            "4.Exit\n",
            "\n",
            "Choose your option:2\n",
            ".....................................................................\n",
            "Your avilable courses are shown bellow\n",
            "1 ) AI\n",
            "2 ) DBMS\n",
            "3 ) Web\n",
            "4 ) Simulation\n",
            "5 ) Networking\n",
            "6 ) Math\n",
            "7 ) English\n",
            "8 ) Physics\n",
            "9 ) OOP\n",
            "10 ) Python\n",
            "11 ) C++\n",
            ".....................................................................\n",
            "MENU BAR\n",
            "1.Add couse\n",
            "2.Show course list\n",
            "3.Remove or Unenroll\n",
            "4.Exit\n",
            "\n",
            "Choose your option:3\n",
            ".....................................................................\n",
            "Do you want to remove course(Y/N)?:y\n",
            "Please, Enter removal course name:Physics\n",
            "Physics has been removed successfully.\n",
            "\n",
            "Do you want to remove course(Y/N)?:y\n",
            "Please, Enter removal course name:Math\n",
            "Math has been removed successfully.\n",
            "\n",
            "Do you want to remove course(Y/N)?:y\n",
            "Please, Enter removal course name:IA\n",
            "Sorry! The course name dose not matched!\n",
            "Do you want to remove course(Y/N)?:y\n",
            "Please, Enter removal course name:Bangla\n",
            "Sorry! The course name dose not matched!\n",
            "Do you want to remove course(Y/N)?:y\n",
            "Please, Enter removal course name:English\n",
            "English has been removed successfully.\n",
            "\n",
            "Do you want to remove course(Y/N)?:y\n",
            "Please, Enter removal course name:C++\n",
            "C++ has been removed successfully.\n",
            "\n",
            "Do you want to remove course(Y/N)?:n\n",
            ".....................................................................\n",
            "MENU BAR\n",
            "1.Add couse\n",
            "2.Show course list\n",
            "3.Remove or Unenroll\n",
            "4.Exit\n",
            "\n",
            "Choose your option:2\n",
            ".....................................................................\n",
            "Your avilable courses are shown bellow\n",
            "1 ) AI\n",
            "2 ) DBMS\n",
            "3 ) Web\n",
            "4 ) Simulation\n",
            "5 ) Networking\n",
            "6 ) OOP\n",
            "7 ) Python\n",
            ".....................................................................\n",
            "MENU BAR\n",
            "1.Add couse\n",
            "2.Show course list\n",
            "3.Remove or Unenroll\n",
            "4.Exit\n",
            "\n",
            "Choose your option:89\n",
            ".....................................................................\n",
            "Invalid Choice! Please try again.\n",
            ".....................................................................\n",
            "MENU BAR\n",
            "1.Add couse\n",
            "2.Show course list\n",
            "3.Remove or Unenroll\n",
            "4.Exit\n",
            "\n",
            "Choose your option:4\n",
            ".....................................................................\n",
            "Goodbye!\n"
          ],
          "name": "stdout"
        }
      ]
    },
    {
      "cell_type": "markdown",
      "metadata": {
        "id": "2n6EngtxIlm4"
      },
      "source": [
        "#**The work that have been shown in class**"
      ]
    },
    {
      "cell_type": "code",
      "metadata": {
        "colab": {
          "base_uri": "https://localhost:8080/"
        },
        "id": "gZWyMYgtIGkx",
        "outputId": "b0262f30-7153-4f2b-ad94-e9c2c239c928"
      },
      "source": [
        "print(\"Hello Bangladesh\")"
      ],
      "execution_count": null,
      "outputs": [
        {
          "output_type": "stream",
          "text": [
            "Hello Bangladesh\n"
          ],
          "name": "stdout"
        }
      ]
    },
    {
      "cell_type": "markdown",
      "metadata": {
        "id": "lNMEoCzg_hm5"
      },
      "source": [
        "#Creating Variables in Python"
      ]
    },
    {
      "cell_type": "code",
      "metadata": {
        "id": "wD2pgwucIaMQ",
        "colab": {
          "base_uri": "https://localhost:8080/"
        },
        "outputId": "3a345d63-ab1a-463e-a4e5-7227160c25fd"
      },
      "source": [
        "x = 6\r\n",
        "type(x)"
      ],
      "execution_count": null,
      "outputs": [
        {
          "output_type": "execute_result",
          "data": {
            "text/plain": [
              "int"
            ]
          },
          "metadata": {
            "tags": []
          },
          "execution_count": 1
        }
      ]
    },
    {
      "cell_type": "code",
      "metadata": {
        "id": "_egapgj-_siV",
        "colab": {
          "base_uri": "https://localhost:8080/"
        },
        "outputId": "156792ab-2863-48d3-d518-d87ee686718c"
      },
      "source": [
        "p = 40.89\r\n",
        "type(p)"
      ],
      "execution_count": null,
      "outputs": [
        {
          "output_type": "execute_result",
          "data": {
            "text/plain": [
              "float"
            ]
          },
          "metadata": {
            "tags": []
          },
          "execution_count": 2
        }
      ]
    },
    {
      "cell_type": "code",
      "metadata": {
        "id": "2y_JaLS0_4_j",
        "colab": {
          "base_uri": "https://localhost:8080/"
        },
        "outputId": "6985f777-30c2-4f36-84e0-c42734b5801d"
      },
      "source": [
        "b = False\r\n",
        "type(b)"
      ],
      "execution_count": null,
      "outputs": [
        {
          "output_type": "execute_result",
          "data": {
            "text/plain": [
              "bool"
            ]
          },
          "metadata": {
            "tags": []
          },
          "execution_count": 3
        }
      ]
    },
    {
      "cell_type": "code",
      "metadata": {
        "id": "fLbF-uqU__qS",
        "colab": {
          "base_uri": "https://localhost:8080/"
        },
        "outputId": "9114ffa2-e40f-423c-cc1b-d64a33044e46"
      },
      "source": [
        "s = 'I love Bangladesh'\r\n",
        "type(s)"
      ],
      "execution_count": null,
      "outputs": [
        {
          "output_type": "execute_result",
          "data": {
            "text/plain": [
              "str"
            ]
          },
          "metadata": {
            "tags": []
          },
          "execution_count": 4
        }
      ]
    },
    {
      "cell_type": "markdown",
      "metadata": {
        "id": "dhYGtzUvAMUu"
      },
      "source": [
        "#Advanced Python Types"
      ]
    },
    {
      "cell_type": "code",
      "metadata": {
        "id": "Xq2VqL6aAHoK",
        "colab": {
          "base_uri": "https://localhost:8080/"
        },
        "outputId": "36641547-a170-42d4-b930-921359f48bd6"
      },
      "source": [
        "#list data structure\r\n",
        "lst = [4, 8, 99, 40, 'Rabbani', 20.36]\r\n",
        "print(lst)"
      ],
      "execution_count": null,
      "outputs": [
        {
          "output_type": "stream",
          "text": [
            "[4, 8, 99, 40, 'Rabbani', 20.36]\n"
          ],
          "name": "stdout"
        }
      ]
    },
    {
      "cell_type": "code",
      "metadata": {
        "id": "YrEZ1LAvAPVx",
        "colab": {
          "base_uri": "https://localhost:8080/"
        },
        "outputId": "06647b58-d1bb-4b31-e481-232a691f8c05"
      },
      "source": [
        "for i in lst:\r\n",
        "  print(i,end=\" \")"
      ],
      "execution_count": null,
      "outputs": [
        {
          "output_type": "stream",
          "text": [
            "4 8 99 40 Rabbani 20.36 "
          ],
          "name": "stdout"
        }
      ]
    },
    {
      "cell_type": "code",
      "metadata": {
        "id": "WnUjiMZXAmik",
        "colab": {
          "base_uri": "https://localhost:8080/"
        },
        "outputId": "acf73360-23ec-48c5-d148-83f5e80bbdbd"
      },
      "source": [
        "print(lst[:])"
      ],
      "execution_count": null,
      "outputs": [
        {
          "output_type": "stream",
          "text": [
            "[4, 8, 99, 40, 'Rabbani', 20.36]\n"
          ],
          "name": "stdout"
        }
      ]
    },
    {
      "cell_type": "code",
      "metadata": {
        "id": "RQuDTDGkAswa",
        "colab": {
          "base_uri": "https://localhost:8080/"
        },
        "outputId": "71658f75-178e-4205-a54d-3045428aff1a"
      },
      "source": [
        "print(lst[2:])"
      ],
      "execution_count": null,
      "outputs": [
        {
          "output_type": "stream",
          "text": [
            "[99, 40, 'Rabbani', 20.36]\n"
          ],
          "name": "stdout"
        }
      ]
    },
    {
      "cell_type": "code",
      "metadata": {
        "id": "HjkGLsS1Awkq",
        "colab": {
          "base_uri": "https://localhost:8080/"
        },
        "outputId": "d3fa816e-a0da-4ebb-c77c-0b7fad7913f6"
      },
      "source": [
        "print(lst[:-1])"
      ],
      "execution_count": null,
      "outputs": [
        {
          "output_type": "stream",
          "text": [
            "[4, 8, 99, 40, 'Rabbani']\n"
          ],
          "name": "stdout"
        }
      ]
    },
    {
      "cell_type": "code",
      "metadata": {
        "id": "x_xjzanCAz-i",
        "colab": {
          "base_uri": "https://localhost:8080/"
        },
        "outputId": "573bd2a3-a641-4b37-f55a-e8ba6f4a4ae4"
      },
      "source": [
        "print(lst[1:len(lst):2])"
      ],
      "execution_count": null,
      "outputs": [
        {
          "output_type": "stream",
          "text": [
            "[8, 40, 20.36]\n"
          ],
          "name": "stdout"
        }
      ]
    },
    {
      "cell_type": "markdown",
      "metadata": {
        "id": "Qt0LZTHwBkP_"
      },
      "source": [
        "#Advanced Printing"
      ]
    },
    {
      "cell_type": "code",
      "metadata": {
        "id": "eVEdWxgxBQ0i",
        "colab": {
          "base_uri": "https://localhost:8080/"
        },
        "outputId": "a5cb719b-fd22-4665-b08d-f342fac84a23"
      },
      "source": [
        "s = 'student'\r\n",
        "age = 25\r\n",
        "cgpa = 3.88\r\n",
        "\r\n",
        "print(\"Arif is a %s of DIU, He %s years old his cgpa is %s\" %(s, age, cgpa))"
      ],
      "execution_count": null,
      "outputs": [
        {
          "output_type": "stream",
          "text": [
            "Arif is a student of DIU, He 25 years old his cgpa is 3.88\n"
          ],
          "name": "stdout"
        }
      ]
    },
    {
      "cell_type": "markdown",
      "metadata": {
        "id": "GwujKSQVCfjz"
      },
      "source": [
        "#Conditional Statement"
      ]
    },
    {
      "cell_type": "code",
      "metadata": {
        "id": "_6r_2hAZBnsq",
        "colab": {
          "base_uri": "https://localhost:8080/"
        },
        "outputId": "f60be2aa-a85e-458b-a9a5-d534f2abb779"
      },
      "source": [
        "n = 5\r\n",
        "m = 10\r\n",
        "if n==5 and m<15:\r\n",
        "  print(\"The value i is 5 and the value of m is less than 15\")\r\n",
        "\r\n",
        "elif n>4 and m>4:\r\n",
        "  print(\"Both n and m is greater than 4\")\r\n",
        "\r\n",
        "else:\r\n",
        "  print(\"Both n amd m is less than 4\")"
      ],
      "execution_count": null,
      "outputs": [
        {
          "output_type": "stream",
          "text": [
            "The value i is 5 and the value of m is less than 15\n"
          ],
          "name": "stdout"
        }
      ]
    },
    {
      "cell_type": "markdown",
      "metadata": {
        "id": "DKyVbMV7EHGQ"
      },
      "source": [
        "#Loops\r\n"
      ]
    },
    {
      "cell_type": "code",
      "metadata": {
        "id": "2ykbQlr1EMCx",
        "colab": {
          "base_uri": "https://localhost:8080/"
        },
        "outputId": "dbf8202b-136b-4832-925e-5b97ecdfabde"
      },
      "source": [
        "x = [1, 2, 3, 4, 6, 10, 22]\r\n",
        "for i in x:\r\n",
        "  if i%2==0:\r\n",
        "    print(i,end=\" \")"
      ],
      "execution_count": null,
      "outputs": [
        {
          "output_type": "stream",
          "text": [
            "2 4 6 10 22 "
          ],
          "name": "stdout"
        }
      ]
    },
    {
      "cell_type": "code",
      "metadata": {
        "id": "SaFPb3M7EdD7",
        "colab": {
          "base_uri": "https://localhost:8080/"
        },
        "outputId": "0080fd74-f787-4b91-db2d-3d5c0d546ca4"
      },
      "source": [
        "n = int(input(\"Enter a number:\"))\r\n",
        "for num in range(n):\r\n",
        "  if num%2:\r\n",
        "    print(num)"
      ],
      "execution_count": null,
      "outputs": [
        {
          "output_type": "stream",
          "text": [
            "Enter a number:12\n",
            "1\n",
            "3\n",
            "5\n",
            "7\n",
            "9\n",
            "11\n"
          ],
          "name": "stdout"
        }
      ]
    },
    {
      "cell_type": "code",
      "metadata": {
        "id": "Ha4chkwoEwQy",
        "colab": {
          "base_uri": "https://localhost:8080/"
        },
        "outputId": "6a41405f-ba34-45e6-8d82-5cc2d6a1a94f"
      },
      "source": [
        "lst = [2,5,6,8,9,11,12,24,51,45,47,12,13,31]\r\n",
        "\r\n",
        "print([x**2 for x in lst if x%2])\r\n",
        "print()\r\n",
        "\r\n",
        "\r\n",
        "lst.remove(lst[5])\r\n",
        "print('Ater removing 6th element:',lst)\r\n"
      ],
      "execution_count": null,
      "outputs": [
        {
          "output_type": "stream",
          "text": [
            "[25, 81, 121, 2601, 2025, 2209, 169, 961]\n",
            "\n",
            "Ater removing 6th element: [2, 5, 6, 8, 9, 12, 24, 51, 45, 47, 12, 13, 31]\n"
          ],
          "name": "stdout"
        }
      ]
    },
    {
      "cell_type": "code",
      "metadata": {
        "id": "pgKTHgEbX7pZ",
        "colab": {
          "base_uri": "https://localhost:8080/"
        },
        "outputId": "605fe95f-e95c-4586-82bc-995e324148d6"
      },
      "source": [
        "lst2 = [10, 20, 45, 69, 'k', 'Habib']\r\n",
        "\r\n",
        "for i in range(3):\r\n",
        "  lst2.pop()\r\n",
        "print(lst2)\r\n",
        "3\r\n",
        "for i in range(5):\r\n",
        "  lst2.append(input(\"Enter appended value:\"))\r\n",
        "\r\n",
        "print()\r\n",
        "print(lst2)\r\n"
      ],
      "execution_count": null,
      "outputs": [
        {
          "output_type": "stream",
          "text": [
            "[10, 20, 45]\n",
            "Enter appended value:12\n",
            "Enter appended value:25\n",
            "Enter appended value:78\n",
            "Enter appended value:kik\n",
            "Enter appended value:book\n",
            "\n",
            "[10, 20, 45, '12', '25', '78', 'kik', 'book']\n"
          ],
          "name": "stdout"
        }
      ]
    },
    {
      "cell_type": "code",
      "metadata": {
        "id": "2IZ4kS3iHdHg",
        "colab": {
          "base_uri": "https://localhost:8080/"
        },
        "outputId": "ed481eee-70b4-4b3b-ca1d-0078fdf6f794"
      },
      "source": [
        "sett = {1, 4,5,63,6,5, 'Rabbani'}\r\n",
        "print(sett)"
      ],
      "execution_count": null,
      "outputs": [
        {
          "output_type": "stream",
          "text": [
            "{1, 4, 5, 6, 'Rabbani', 63}\n"
          ],
          "name": "stdout"
        }
      ]
    },
    {
      "cell_type": "code",
      "metadata": {
        "id": "eiQue2aAHm6K",
        "colab": {
          "base_uri": "https://localhost:8080/"
        },
        "outputId": "0ebc0c28-3955-40ea-a7f1-039661d617f6"
      },
      "source": [
        "n = 50\r\n",
        "while n:\r\n",
        "  if n%2:\r\n",
        "    print(n**3, end=\" \")\r\n",
        "  n-=1"
      ],
      "execution_count": null,
      "outputs": [
        {
          "output_type": "stream",
          "text": [
            "117649 103823 91125 79507 68921 59319 50653 42875 35937 29791 24389 19683 15625 12167 9261 6859 4913 3375 2197 1331 729 343 125 27 1 "
          ],
          "name": "stdout"
        }
      ]
    },
    {
      "cell_type": "code",
      "metadata": {
        "id": "iZPjuLC8IA0v",
        "colab": {
          "base_uri": "https://localhost:8080/"
        },
        "outputId": "27551e8f-6841-4b45-f683-b2b3ecbaff48"
      },
      "source": [
        "n = int(input(\"Enter a number:\"))\r\n",
        "m = n\r\n",
        "s=0\r\n",
        "digit=0\r\n",
        "while m:\r\n",
        "  rem = m%10\r\n",
        "  s += rem\r\n",
        "  m = m//10\r\n",
        "print(\"Sum of digits = \",s)"
      ],
      "execution_count": null,
      "outputs": [
        {
          "output_type": "stream",
          "text": [
            "Enter a number:1457896\n",
            "Sum of digits =  40\n"
          ],
          "name": "stdout"
        }
      ]
    },
    {
      "cell_type": "markdown",
      "metadata": {
        "id": "7jB5v-J5Ua_7"
      },
      "source": [
        "#Creating Functions\r\n"
      ]
    },
    {
      "cell_type": "code",
      "metadata": {
        "id": "ThX4Ne8nUhXt",
        "colab": {
          "base_uri": "https://localhost:8080/"
        },
        "outputId": "5fd451ca-5b17-481e-f0c0-9b90c037f1c2"
      },
      "source": [
        "def CheckPlandrome(n):\r\n",
        "  rev = 0\r\n",
        "  while(n>0):\r\n",
        "    digit = n%10\r\n",
        "    rev = rev*10+digit\r\n",
        "    n = n//10\r\n",
        "  return rev\r\n",
        "\r\n",
        "n = int(input('Enter a number:'))\r\n",
        "if n == CheckPlandrome(n):\r\n",
        "  print(\"%s is a plandrome number\" %(n))\r\n",
        "\r\n",
        "else:\r\n",
        "  print(\"%s is not a plandrome number\" %(n))"
      ],
      "execution_count": null,
      "outputs": [
        {
          "output_type": "stream",
          "text": [
            "Enter a number:369\n",
            "369 is not a plandrome number\n"
          ],
          "name": "stdout"
        }
      ]
    },
    {
      "cell_type": "code",
      "metadata": {
        "id": "9O9bMDMhWR0b",
        "colab": {
          "base_uri": "https://localhost:8080/"
        },
        "outputId": "0b4e19d2-f3f0-4d38-e4b6-195d7da61dfa"
      },
      "source": [
        "def SumOfNumber(n):\r\n",
        "  return (n*(n-1))//2\r\n",
        "\r\n",
        "\r\n",
        "x = int(input(\"Enter a number:\"))\r\n",
        "print(\"Sum of Numbers is : \", SumOfNumber(x))"
      ],
      "execution_count": null,
      "outputs": [
        {
          "output_type": "stream",
          "text": [
            "Enter a number:100\n",
            "Sum of Numbers is :  4950\n"
          ],
          "name": "stdout"
        }
      ]
    },
    {
      "cell_type": "code",
      "metadata": {
        "id": "_fuYALDGXGlM"
      },
      "source": [
        ""
      ],
      "execution_count": null,
      "outputs": []
    },
    {
      "cell_type": "markdown",
      "metadata": {
        "id": "IKTaXx09aP2m"
      },
      "source": [
        "#Dictionary"
      ]
    },
    {
      "cell_type": "code",
      "metadata": {
        "id": "n-ngEetwamPC",
        "colab": {
          "base_uri": "https://localhost:8080/"
        },
        "outputId": "a9a2f159-7728-41ec-ddb8-a4bd7877a819"
      },
      "source": [
        "struent = {\r\n",
        "    'Name' : [\"Rabbani\", \"Habib\", \"Monir\", \"Rifat\"],\r\n",
        "    'Age' : [25, 22, 23, 24],\r\n",
        "    'CGPA' : [3.5, 3.78, 3.98, 3.00]\r\n",
        "}\r\n",
        "\r\n",
        "print(struent)"
      ],
      "execution_count": null,
      "outputs": [
        {
          "output_type": "stream",
          "text": [
            "{'Name': ['Rabbani', 'Habib', 'Monir', 'Rifat'], 'Age': [25, 22, 23, 24], 'CGPA': [3.5, 3.78, 3.98, 3.0]}\n"
          ],
          "name": "stdout"
        }
      ]
    },
    {
      "cell_type": "code",
      "metadata": {
        "id": "9x7jGkaBbUxU",
        "colab": {
          "base_uri": "https://localhost:8080/"
        },
        "outputId": "75476cf7-043d-479d-bc56-ed0804b4258b"
      },
      "source": [
        "import pandas as pd\r\n",
        "student = {\r\n",
        "    'Name' : [\"Rabbani\", \"Habib\", \"Monir\", \"Rifat\"],\r\n",
        "    'Age' : [25, 22, 23, 24],\r\n",
        "    'CGPA' : [3.5, 3.78, 3.98, 3.00]\r\n",
        "}\r\n",
        "df = pd.DataFrame(student)\r\n",
        "print(df)"
      ],
      "execution_count": null,
      "outputs": [
        {
          "output_type": "stream",
          "text": [
            "      Name  Age  CGPA\n",
            "0  Rabbani   25  3.50\n",
            "1    Habib   22  3.78\n",
            "2    Monir   23  3.98\n",
            "3    Rifat   24  3.00\n"
          ],
          "name": "stdout"
        }
      ]
    },
    {
      "cell_type": "code",
      "metadata": {
        "id": "DIVyUECObgoz",
        "colab": {
          "base_uri": "https://localhost:8080/"
        },
        "outputId": "20cefb90-b250-4f4a-a6da-469269add942"
      },
      "source": [
        "print(df.Age)"
      ],
      "execution_count": null,
      "outputs": [
        {
          "output_type": "stream",
          "text": [
            "0    25\n",
            "1    22\n",
            "2    23\n",
            "3    24\n",
            "Name: Age, dtype: int64\n"
          ],
          "name": "stdout"
        }
      ]
    },
    {
      "cell_type": "code",
      "metadata": {
        "id": "IrgzQCjjcjbe",
        "colab": {
          "base_uri": "https://localhost:8080/"
        },
        "outputId": "501c7ec3-4b0e-4077-8c1b-263e9778eaac"
      },
      "source": [
        "print(df.Age.mean())"
      ],
      "execution_count": null,
      "outputs": [
        {
          "output_type": "stream",
          "text": [
            "23.5\n"
          ],
          "name": "stdout"
        }
      ]
    },
    {
      "cell_type": "code",
      "metadata": {
        "id": "OI78Dzy-cpyo",
        "colab": {
          "base_uri": "https://localhost:8080/"
        },
        "outputId": "1e175c79-3c2d-4c7f-89b6-bd6b37a14e63"
      },
      "source": [
        "print(df.CGPA.mean())"
      ],
      "execution_count": null,
      "outputs": [
        {
          "output_type": "stream",
          "text": [
            "3.565\n"
          ],
          "name": "stdout"
        }
      ]
    },
    {
      "cell_type": "code",
      "metadata": {
        "id": "KcEa2ZSTdRSx"
      },
      "source": [
        ""
      ],
      "execution_count": null,
      "outputs": []
    }
  ]
}